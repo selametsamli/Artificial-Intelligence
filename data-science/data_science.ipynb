{
  "cells": [
    {
      "metadata": {
        "_uuid": "8f2839f25d086af736a60e9eeb907d3b93b6e0e5",
        "_cell_guid": "b1076dfc-b9ad-4769-8c92-a6c4dae69d19",
        "trusted": true
      },
      "cell_type": "code",
      "source": "# This Python 3 environment comes with many helpful analytics libraries installed\n# It is defined by the kaggle/python docker image: https://github.com/kaggle/docker-python\n# For example, here's several helpful packages to load in \n\nimport numpy as np # linear algebra\nimport pandas as pd # data processing, CSV file I/O (e.g. pd.read_csv)\nimport matplotlib.pyplot as plt\nimport seaborn as sns\n\n# Input data files are available in the \"../input/\" directory.\n# For example, running this (by clicking run or pressing Shift+Enter) will list the files in the input directory\n\nimport os\nprint(os.listdir(\"../input\"))\n\n# Any results you write to the current directory are saved as output.",
      "execution_count": 76,
      "outputs": [
        {
          "output_type": "stream",
          "text": "['combats.csv', 'pokemon.csv', 'tests.csv']\n",
          "name": "stdout"
        }
      ]
    },
    {
      "metadata": {
        "_cell_guid": "79c7e3d0-c299-4dcb-8224-4455121ee9b0",
        "_uuid": "d629ff2d2480ee46fbb7e2d37f6b5fab8052498a",
        "trusted": true,
        "collapsed": true
      },
      "cell_type": "code",
      "source": "data = pd.read_csv('../input/pokemon.csv')",
      "execution_count": 92,
      "outputs": []
    },
    {
      "metadata": {
        "_uuid": "bf6ec4d2c43c7fdce443ac6b29d121e2714736da"
      },
      "cell_type": "markdown",
      "source": "User Defined Function \n\n"
    },
    {
      "metadata": {
        "trusted": true,
        "_uuid": "7436d461af22e712de6f66aba7877ca1cc2c858a"
      },
      "cell_type": "code",
      "source": "def tuble_ex():\n    t=(1,2,3)\n    return t\na,b,c =tuble_ex()\nprint(a,b,c)",
      "execution_count": 93,
      "outputs": [
        {
          "output_type": "stream",
          "text": "1 2 3\n",
          "name": "stdout"
        }
      ]
    },
    {
      "metadata": {
        "_uuid": "b8fa85a62093e8b72f9e338593f4972d68d5effd"
      },
      "cell_type": "markdown",
      "source": "# Scope"
    },
    {
      "metadata": {
        "trusted": true,
        "_uuid": "a7eb0321385f8d2b14fe6ebb664a1c5bcf7e98c2"
      },
      "cell_type": "code",
      "source": "x=2\ndef f():\n    x=3\n    return x\nprint(x)  # global scope\nprint(f()) # local scope",
      "execution_count": 94,
      "outputs": [
        {
          "output_type": "stream",
          "text": "2\n3\n",
          "name": "stdout"
        }
      ]
    },
    {
      "metadata": {
        "trusted": true,
        "_uuid": "b4cb11837bd9975929344095a881051873a22b5d"
      },
      "cell_type": "code",
      "source": "x = 5\ndef f():\n    y = 2*x\n    return y\nprint(f())",
      "execution_count": 95,
      "outputs": [
        {
          "output_type": "stream",
          "text": "10\n",
          "name": "stdout"
        }
      ]
    },
    {
      "metadata": {
        "trusted": true,
        "_uuid": "5555bc2e6430394ccd757364cda2560b0a43412c"
      },
      "cell_type": "code",
      "source": "import builtins\ndir(builtins)",
      "execution_count": 96,
      "outputs": [
        {
          "output_type": "execute_result",
          "execution_count": 96,
          "data": {
            "text/plain": "['ArithmeticError',\n 'AssertionError',\n 'AttributeError',\n 'BaseException',\n 'BlockingIOError',\n 'BrokenPipeError',\n 'BufferError',\n 'BytesWarning',\n 'ChildProcessError',\n 'ConnectionAbortedError',\n 'ConnectionError',\n 'ConnectionRefusedError',\n 'ConnectionResetError',\n 'DeprecationWarning',\n 'EOFError',\n 'Ellipsis',\n 'EnvironmentError',\n 'Exception',\n 'False',\n 'FileExistsError',\n 'FileNotFoundError',\n 'FloatingPointError',\n 'FutureWarning',\n 'GeneratorExit',\n 'IOError',\n 'ImportError',\n 'ImportWarning',\n 'IndentationError',\n 'IndexError',\n 'InterruptedError',\n 'IsADirectoryError',\n 'KeyError',\n 'KeyboardInterrupt',\n 'LookupError',\n 'MemoryError',\n 'ModuleNotFoundError',\n 'NameError',\n 'None',\n 'NotADirectoryError',\n 'NotImplemented',\n 'NotImplementedError',\n 'OSError',\n 'OverflowError',\n 'PendingDeprecationWarning',\n 'PermissionError',\n 'ProcessLookupError',\n 'RecursionError',\n 'ReferenceError',\n 'ResourceWarning',\n 'RuntimeError',\n 'RuntimeWarning',\n 'StopAsyncIteration',\n 'StopIteration',\n 'SyntaxError',\n 'SyntaxWarning',\n 'SystemError',\n 'SystemExit',\n 'TabError',\n 'TimeoutError',\n 'True',\n 'TypeError',\n 'UnboundLocalError',\n 'UnicodeDecodeError',\n 'UnicodeEncodeError',\n 'UnicodeError',\n 'UnicodeTranslateError',\n 'UnicodeWarning',\n 'UserWarning',\n 'ValueError',\n 'Warning',\n 'ZeroDivisionError',\n '__IPYTHON__',\n '__build_class__',\n '__debug__',\n '__doc__',\n '__import__',\n '__loader__',\n '__name__',\n '__package__',\n '__pybind11_internals_v1__',\n '__spec__',\n 'abs',\n 'all',\n 'any',\n 'ascii',\n 'bin',\n 'bool',\n 'bytearray',\n 'bytes',\n 'callable',\n 'chr',\n 'classmethod',\n 'compile',\n 'complex',\n 'copyright',\n 'credits',\n 'delattr',\n 'dict',\n 'dir',\n 'display',\n 'divmod',\n 'enumerate',\n 'eval',\n 'exec',\n 'filter',\n 'float',\n 'format',\n 'frozenset',\n 'get_ipython',\n 'getattr',\n 'globals',\n 'hasattr',\n 'hash',\n 'help',\n 'hex',\n 'id',\n 'input',\n 'int',\n 'isinstance',\n 'issubclass',\n 'iter',\n 'len',\n 'license',\n 'list',\n 'locals',\n 'map',\n 'max',\n 'memoryview',\n 'min',\n 'next',\n 'object',\n 'oct',\n 'open',\n 'ord',\n 'pow',\n 'print',\n 'property',\n 'range',\n 'repr',\n 'reversed',\n 'round',\n 'set',\n 'setattr',\n 'slice',\n 'sorted',\n 'staticmethod',\n 'str',\n 'sum',\n 'super',\n 'tuple',\n 'type',\n 'vars',\n 'zip']"
          },
          "metadata": {}
        }
      ]
    },
    {
      "metadata": {
        "_uuid": "2c7ba4f84e0d60a6f1d77fb897add3c667c2cc40"
      },
      "cell_type": "markdown",
      "source": "# Nested Function"
    },
    {
      "metadata": {
        "trusted": true,
        "_uuid": "9ad0bf184118ac7285c2630982d62d38665a3af4"
      },
      "cell_type": "code",
      "source": "def square():\n    def add():\n        x=2\n        y=3\n        z=x+y\n        return z\n    return add()**2\nprint(square())",
      "execution_count": 97,
      "outputs": [
        {
          "output_type": "stream",
          "text": "25\n",
          "name": "stdout"
        }
      ]
    },
    {
      "metadata": {
        "_uuid": "b1edb05af602d892fda71cab813e321d26fd919b"
      },
      "cell_type": "markdown",
      "source": "## DEFAULT and FLEXIBLE ARGUMENTS"
    },
    {
      "metadata": {
        "trusted": true,
        "_uuid": "327479c31a9724b74f6e0c7f5bfc3d8b07a2f382"
      },
      "cell_type": "code",
      "source": "def f(a,b=1, c=2):\n    y= a+b+c\n    return y\nprint(f(5))\nprint(f(5,4,3))",
      "execution_count": 98,
      "outputs": [
        {
          "output_type": "stream",
          "text": "8\n12\n",
          "name": "stdout"
        }
      ]
    },
    {
      "metadata": {
        "trusted": true,
        "_uuid": "de53f91b4dd1f0137c507084d36e80491fbd6104"
      },
      "cell_type": "code",
      "source": "def f(*args):\n    for i in args:\n        print(i)\nf(1)\nprint(\"\")\nf(1,2,3,4)\n\ndef f(**kwargs):\n    for key,value in kwargs.items():\n        print(key,\" \",value)\nf(country = 'spain',capital='madrid',pupulation=123456)",
      "execution_count": 99,
      "outputs": [
        {
          "output_type": "stream",
          "text": "1\n\n1\n2\n3\n4\ncountry   spain\ncapital   madrid\npupulation   123456\n",
          "name": "stdout"
        }
      ]
    },
    {
      "metadata": {
        "_uuid": "b216778162ca1ef8bf1b8536408cc4550700754e"
      },
      "cell_type": "markdown",
      "source": "## anonymous function"
    },
    {
      "metadata": {
        "trusted": true,
        "_uuid": "58fad5540e1b375898ba576051e586cbbda35fae"
      },
      "cell_type": "code",
      "source": "number_list = [1,2,3]\ny= map(lambda x:x**2, number_list)\nprint(list(y))",
      "execution_count": 100,
      "outputs": [
        {
          "output_type": "stream",
          "text": "[1, 4, 9]\n",
          "name": "stdout"
        }
      ]
    },
    {
      "metadata": {
        "_uuid": "932dbcab6365b3e7b71cea2cdcd96f601586f3a1"
      },
      "cell_type": "markdown",
      "source": "## ITERATORS"
    },
    {
      "metadata": {
        "trusted": true,
        "_uuid": "7c31fdaca43e94257b1949c2b0c2d82b00aeab04"
      },
      "cell_type": "code",
      "source": "name = 'ronaldo'\nit = iter(name)\nprint(next(it))\nprint(*it)",
      "execution_count": 101,
      "outputs": [
        {
          "output_type": "stream",
          "text": "r\no n a l d o\n",
          "name": "stdout"
        }
      ]
    },
    {
      "metadata": {
        "trusted": true,
        "_uuid": "546ebe5e4cf9243c2da9f1a52e9a2060025ab145"
      },
      "cell_type": "code",
      "source": "list1 = [1,2,3,4]\nlist2 = [5,6,7,8]\nz = zip(list1,list2)\nprint(z)\nz_list=list(z)\nprint(z_list)",
      "execution_count": 102,
      "outputs": [
        {
          "output_type": "stream",
          "text": "<zip object at 0x7f2bc9d81948>\n[(1, 5), (2, 6), (3, 7), (4, 8)]\n",
          "name": "stdout"
        }
      ]
    },
    {
      "metadata": {
        "trusted": true,
        "_uuid": "99379a193a70e05988569d737b3b11571aa98dd8"
      },
      "cell_type": "code",
      "source": "un_zip =zip(*z_list)\nun_list1,un_list2 = list(un_zip)\nprint(un_list1)\nprint(un_list2)\nprint(type(un_list1))\nprint(type(list(un_list1)))",
      "execution_count": 103,
      "outputs": [
        {
          "output_type": "stream",
          "text": "(1, 2, 3, 4)\n(5, 6, 7, 8)\n<class 'tuple'>\n<class 'list'>\n",
          "name": "stdout"
        }
      ]
    },
    {
      "metadata": {
        "_uuid": "dde712c64205fff9aaef3de64fcc76ceb35655aa"
      },
      "cell_type": "markdown",
      "source": "## List comprehension"
    },
    {
      "metadata": {
        "trusted": true,
        "_uuid": "e6f596286c8c2abcea0c958ac5ace6c9fb137143"
      },
      "cell_type": "code",
      "source": "num1 = [1,2,3]\nnum2 = [i + 1 for i in num1]\nprint(num2)",
      "execution_count": 104,
      "outputs": [
        {
          "output_type": "stream",
          "text": "[2, 3, 4]\n",
          "name": "stdout"
        }
      ]
    },
    {
      "metadata": {
        "trusted": true,
        "_uuid": "a60de669b36643e06c313d00e39c547bfedbefdc"
      },
      "cell_type": "code",
      "source": "num1 = [5,10,15]\nnum2 = [i**2 if i ==10 else i-5 if i<7 else i+5 for i in num1]\nprint(num2)",
      "execution_count": 105,
      "outputs": [
        {
          "output_type": "stream",
          "text": "[0, 100, 20]\n",
          "name": "stdout"
        }
      ]
    },
    {
      "metadata": {
        "trusted": true,
        "_uuid": "5cd5f8eb0f2469232c711dd5acfd14ce4323e4dd"
      },
      "cell_type": "code",
      "source": "threshold = sum(data.Speed)/len(data.Speed)\nprint(\"treshold\",threshold)\ndata['speed_level'] = [\"high\" if i > threshold else \"low\" for i in data.Speed]\ndata.loc[:10,[\"speed_level\",\"Speed\"]]",
      "execution_count": 106,
      "outputs": [
        {
          "output_type": "stream",
          "text": "treshold 68.2775\n",
          "name": "stdout"
        },
        {
          "output_type": "execute_result",
          "execution_count": 106,
          "data": {
            "text/plain": "   speed_level  Speed\n0          low     45\n1          low     60\n2         high     80\n3         high     80\n4          low     65\n5         high     80\n6         high    100\n7         high    100\n8         high    100\n9          low     43\n10         low     58",
            "text/html": "<div>\n<style scoped>\n    .dataframe tbody tr th:only-of-type {\n        vertical-align: middle;\n    }\n\n    .dataframe tbody tr th {\n        vertical-align: top;\n    }\n\n    .dataframe thead th {\n        text-align: right;\n    }\n</style>\n<table border=\"1\" class=\"dataframe\">\n  <thead>\n    <tr style=\"text-align: right;\">\n      <th></th>\n      <th>speed_level</th>\n      <th>Speed</th>\n    </tr>\n  </thead>\n  <tbody>\n    <tr>\n      <th>0</th>\n      <td>low</td>\n      <td>45</td>\n    </tr>\n    <tr>\n      <th>1</th>\n      <td>low</td>\n      <td>60</td>\n    </tr>\n    <tr>\n      <th>2</th>\n      <td>high</td>\n      <td>80</td>\n    </tr>\n    <tr>\n      <th>3</th>\n      <td>high</td>\n      <td>80</td>\n    </tr>\n    <tr>\n      <th>4</th>\n      <td>low</td>\n      <td>65</td>\n    </tr>\n    <tr>\n      <th>5</th>\n      <td>high</td>\n      <td>80</td>\n    </tr>\n    <tr>\n      <th>6</th>\n      <td>high</td>\n      <td>100</td>\n    </tr>\n    <tr>\n      <th>7</th>\n      <td>high</td>\n      <td>100</td>\n    </tr>\n    <tr>\n      <th>8</th>\n      <td>high</td>\n      <td>100</td>\n    </tr>\n    <tr>\n      <th>9</th>\n      <td>low</td>\n      <td>43</td>\n    </tr>\n    <tr>\n      <th>10</th>\n      <td>low</td>\n      <td>58</td>\n    </tr>\n  </tbody>\n</table>\n</div>"
          },
          "metadata": {}
        }
      ]
    },
    {
      "metadata": {
        "trusted": true,
        "collapsed": true,
        "_uuid": "79973cf6de4e3a261e9fd8b30fa2aeda91d8365e"
      },
      "cell_type": "markdown",
      "source": "## Cleaning Data"
    },
    {
      "metadata": {
        "trusted": true,
        "_uuid": "519e63ca0af2bff4a4a02f658951f68013e6cd9f"
      },
      "cell_type": "code",
      "source": "data.head()",
      "execution_count": 107,
      "outputs": [
        {
          "output_type": "execute_result",
          "execution_count": 107,
          "data": {
            "text/plain": "   #           Name Type 1     ...      Generation  Legendary  speed_level\n0  1      Bulbasaur  Grass     ...               1      False          low\n1  2        Ivysaur  Grass     ...               1      False          low\n2  3       Venusaur  Grass     ...               1      False         high\n3  4  Mega Venusaur  Grass     ...               1      False         high\n4  5     Charmander   Fire     ...               1      False          low\n\n[5 rows x 13 columns]",
            "text/html": "<div>\n<style scoped>\n    .dataframe tbody tr th:only-of-type {\n        vertical-align: middle;\n    }\n\n    .dataframe tbody tr th {\n        vertical-align: top;\n    }\n\n    .dataframe thead th {\n        text-align: right;\n    }\n</style>\n<table border=\"1\" class=\"dataframe\">\n  <thead>\n    <tr style=\"text-align: right;\">\n      <th></th>\n      <th>#</th>\n      <th>Name</th>\n      <th>Type 1</th>\n      <th>Type 2</th>\n      <th>HP</th>\n      <th>Attack</th>\n      <th>Defense</th>\n      <th>Sp. Atk</th>\n      <th>Sp. Def</th>\n      <th>Speed</th>\n      <th>Generation</th>\n      <th>Legendary</th>\n      <th>speed_level</th>\n    </tr>\n  </thead>\n  <tbody>\n    <tr>\n      <th>0</th>\n      <td>1</td>\n      <td>Bulbasaur</td>\n      <td>Grass</td>\n      <td>Poison</td>\n      <td>45</td>\n      <td>49</td>\n      <td>49</td>\n      <td>65</td>\n      <td>65</td>\n      <td>45</td>\n      <td>1</td>\n      <td>False</td>\n      <td>low</td>\n    </tr>\n    <tr>\n      <th>1</th>\n      <td>2</td>\n      <td>Ivysaur</td>\n      <td>Grass</td>\n      <td>Poison</td>\n      <td>60</td>\n      <td>62</td>\n      <td>63</td>\n      <td>80</td>\n      <td>80</td>\n      <td>60</td>\n      <td>1</td>\n      <td>False</td>\n      <td>low</td>\n    </tr>\n    <tr>\n      <th>2</th>\n      <td>3</td>\n      <td>Venusaur</td>\n      <td>Grass</td>\n      <td>Poison</td>\n      <td>80</td>\n      <td>82</td>\n      <td>83</td>\n      <td>100</td>\n      <td>100</td>\n      <td>80</td>\n      <td>1</td>\n      <td>False</td>\n      <td>high</td>\n    </tr>\n    <tr>\n      <th>3</th>\n      <td>4</td>\n      <td>Mega Venusaur</td>\n      <td>Grass</td>\n      <td>Poison</td>\n      <td>80</td>\n      <td>100</td>\n      <td>123</td>\n      <td>122</td>\n      <td>120</td>\n      <td>80</td>\n      <td>1</td>\n      <td>False</td>\n      <td>high</td>\n    </tr>\n    <tr>\n      <th>4</th>\n      <td>5</td>\n      <td>Charmander</td>\n      <td>Fire</td>\n      <td>NaN</td>\n      <td>39</td>\n      <td>52</td>\n      <td>43</td>\n      <td>60</td>\n      <td>50</td>\n      <td>65</td>\n      <td>1</td>\n      <td>False</td>\n      <td>low</td>\n    </tr>\n  </tbody>\n</table>\n</div>"
          },
          "metadata": {}
        }
      ]
    },
    {
      "metadata": {
        "trusted": true,
        "_uuid": "d7dafc9519d7b9864709c9bd6fca5736eaf07dbc"
      },
      "cell_type": "code",
      "source": "data.tail()",
      "execution_count": 108,
      "outputs": [
        {
          "output_type": "execute_result",
          "execution_count": 108,
          "data": {
            "text/plain": "       #            Name   Type 1     ...      Generation  Legendary  speed_level\n795  796         Diancie     Rock     ...               6       True          low\n796  797    Mega Diancie     Rock     ...               6       True         high\n797  798  Hoopa Confined  Psychic     ...               6       True         high\n798  799   Hoopa Unbound  Psychic     ...               6       True         high\n799  800       Volcanion     Fire     ...               6       True         high\n\n[5 rows x 13 columns]",
            "text/html": "<div>\n<style scoped>\n    .dataframe tbody tr th:only-of-type {\n        vertical-align: middle;\n    }\n\n    .dataframe tbody tr th {\n        vertical-align: top;\n    }\n\n    .dataframe thead th {\n        text-align: right;\n    }\n</style>\n<table border=\"1\" class=\"dataframe\">\n  <thead>\n    <tr style=\"text-align: right;\">\n      <th></th>\n      <th>#</th>\n      <th>Name</th>\n      <th>Type 1</th>\n      <th>Type 2</th>\n      <th>HP</th>\n      <th>Attack</th>\n      <th>Defense</th>\n      <th>Sp. Atk</th>\n      <th>Sp. Def</th>\n      <th>Speed</th>\n      <th>Generation</th>\n      <th>Legendary</th>\n      <th>speed_level</th>\n    </tr>\n  </thead>\n  <tbody>\n    <tr>\n      <th>795</th>\n      <td>796</td>\n      <td>Diancie</td>\n      <td>Rock</td>\n      <td>Fairy</td>\n      <td>50</td>\n      <td>100</td>\n      <td>150</td>\n      <td>100</td>\n      <td>150</td>\n      <td>50</td>\n      <td>6</td>\n      <td>True</td>\n      <td>low</td>\n    </tr>\n    <tr>\n      <th>796</th>\n      <td>797</td>\n      <td>Mega Diancie</td>\n      <td>Rock</td>\n      <td>Fairy</td>\n      <td>50</td>\n      <td>160</td>\n      <td>110</td>\n      <td>160</td>\n      <td>110</td>\n      <td>110</td>\n      <td>6</td>\n      <td>True</td>\n      <td>high</td>\n    </tr>\n    <tr>\n      <th>797</th>\n      <td>798</td>\n      <td>Hoopa Confined</td>\n      <td>Psychic</td>\n      <td>Ghost</td>\n      <td>80</td>\n      <td>110</td>\n      <td>60</td>\n      <td>150</td>\n      <td>130</td>\n      <td>70</td>\n      <td>6</td>\n      <td>True</td>\n      <td>high</td>\n    </tr>\n    <tr>\n      <th>798</th>\n      <td>799</td>\n      <td>Hoopa Unbound</td>\n      <td>Psychic</td>\n      <td>Dark</td>\n      <td>80</td>\n      <td>160</td>\n      <td>60</td>\n      <td>170</td>\n      <td>130</td>\n      <td>80</td>\n      <td>6</td>\n      <td>True</td>\n      <td>high</td>\n    </tr>\n    <tr>\n      <th>799</th>\n      <td>800</td>\n      <td>Volcanion</td>\n      <td>Fire</td>\n      <td>Water</td>\n      <td>80</td>\n      <td>110</td>\n      <td>120</td>\n      <td>130</td>\n      <td>90</td>\n      <td>70</td>\n      <td>6</td>\n      <td>True</td>\n      <td>high</td>\n    </tr>\n  </tbody>\n</table>\n</div>"
          },
          "metadata": {}
        }
      ]
    },
    {
      "metadata": {
        "trusted": true,
        "_uuid": "3a62b4d1d6d95a338f15d806a09f70b7159832fc"
      },
      "cell_type": "code",
      "source": "data.columns",
      "execution_count": 109,
      "outputs": [
        {
          "output_type": "execute_result",
          "execution_count": 109,
          "data": {
            "text/plain": "Index(['#', 'Name', 'Type 1', 'Type 2', 'HP', 'Attack', 'Defense', 'Sp. Atk',\n       'Sp. Def', 'Speed', 'Generation', 'Legendary', 'speed_level'],\n      dtype='object')"
          },
          "metadata": {}
        }
      ]
    },
    {
      "metadata": {
        "trusted": true,
        "_uuid": "db9600a3b0646d6fad8895978fb7caccf455767f"
      },
      "cell_type": "code",
      "source": "data.shape",
      "execution_count": 110,
      "outputs": [
        {
          "output_type": "execute_result",
          "execution_count": 110,
          "data": {
            "text/plain": "(800, 13)"
          },
          "metadata": {}
        }
      ]
    },
    {
      "metadata": {
        "trusted": true,
        "_uuid": "bf5a0d5c5eec5036050373ad298d0266687126d3"
      },
      "cell_type": "code",
      "source": "data.info()",
      "execution_count": 111,
      "outputs": [
        {
          "output_type": "stream",
          "text": "<class 'pandas.core.frame.DataFrame'>\nRangeIndex: 800 entries, 0 to 799\nData columns (total 13 columns):\n#              800 non-null int64\nName           799 non-null object\nType 1         800 non-null object\nType 2         414 non-null object\nHP             800 non-null int64\nAttack         800 non-null int64\nDefense        800 non-null int64\nSp. Atk        800 non-null int64\nSp. Def        800 non-null int64\nSpeed          800 non-null int64\nGeneration     800 non-null int64\nLegendary      800 non-null bool\nspeed_level    800 non-null object\ndtypes: bool(1), int64(8), object(4)\nmemory usage: 75.9+ KB\n",
          "name": "stdout"
        }
      ]
    },
    {
      "metadata": {
        "_uuid": "f97caf85de8ce81489c528b7d6b6b511c3456ae3"
      },
      "cell_type": "markdown",
      "source": "## Explotary data analysis(Eda)"
    },
    {
      "metadata": {
        "trusted": true,
        "_uuid": "a167c93456ced1d57e1e5eed3322a5e067a54c0d"
      },
      "cell_type": "code",
      "source": "print(data['Type 1'].value_counts(dropna = False))",
      "execution_count": 112,
      "outputs": [
        {
          "output_type": "stream",
          "text": "Water       112\nNormal       98\nGrass        70\nBug          69\nPsychic      57\nFire         52\nRock         44\nElectric     44\nGround       32\nDragon       32\nGhost        32\nDark         31\nPoison       28\nSteel        27\nFighting     27\nIce          24\nFairy        17\nFlying        4\nName: Type 1, dtype: int64\n",
          "name": "stdout"
        }
      ]
    },
    {
      "metadata": {
        "trusted": true,
        "_uuid": "b47afb946e09d405401e2f09a2f34b158d424754"
      },
      "cell_type": "code",
      "source": "data.describe()",
      "execution_count": 113,
      "outputs": [
        {
          "output_type": "execute_result",
          "execution_count": 113,
          "data": {
            "text/plain": "              #          HP     ...           Speed  Generation\ncount  800.0000  800.000000     ...      800.000000   800.00000\nmean   400.5000   69.258750     ...       68.277500     3.32375\nstd    231.0844   25.534669     ...       29.060474     1.66129\nmin      1.0000    1.000000     ...        5.000000     1.00000\n25%    200.7500   50.000000     ...       45.000000     2.00000\n50%    400.5000   65.000000     ...       65.000000     3.00000\n75%    600.2500   80.000000     ...       90.000000     5.00000\nmax    800.0000  255.000000     ...      180.000000     6.00000\n\n[8 rows x 8 columns]",
            "text/html": "<div>\n<style scoped>\n    .dataframe tbody tr th:only-of-type {\n        vertical-align: middle;\n    }\n\n    .dataframe tbody tr th {\n        vertical-align: top;\n    }\n\n    .dataframe thead th {\n        text-align: right;\n    }\n</style>\n<table border=\"1\" class=\"dataframe\">\n  <thead>\n    <tr style=\"text-align: right;\">\n      <th></th>\n      <th>#</th>\n      <th>HP</th>\n      <th>Attack</th>\n      <th>Defense</th>\n      <th>Sp. Atk</th>\n      <th>Sp. Def</th>\n      <th>Speed</th>\n      <th>Generation</th>\n    </tr>\n  </thead>\n  <tbody>\n    <tr>\n      <th>count</th>\n      <td>800.0000</td>\n      <td>800.000000</td>\n      <td>800.000000</td>\n      <td>800.000000</td>\n      <td>800.000000</td>\n      <td>800.000000</td>\n      <td>800.000000</td>\n      <td>800.00000</td>\n    </tr>\n    <tr>\n      <th>mean</th>\n      <td>400.5000</td>\n      <td>69.258750</td>\n      <td>79.001250</td>\n      <td>73.842500</td>\n      <td>72.820000</td>\n      <td>71.902500</td>\n      <td>68.277500</td>\n      <td>3.32375</td>\n    </tr>\n    <tr>\n      <th>std</th>\n      <td>231.0844</td>\n      <td>25.534669</td>\n      <td>32.457366</td>\n      <td>31.183501</td>\n      <td>32.722294</td>\n      <td>27.828916</td>\n      <td>29.060474</td>\n      <td>1.66129</td>\n    </tr>\n    <tr>\n      <th>min</th>\n      <td>1.0000</td>\n      <td>1.000000</td>\n      <td>5.000000</td>\n      <td>5.000000</td>\n      <td>10.000000</td>\n      <td>20.000000</td>\n      <td>5.000000</td>\n      <td>1.00000</td>\n    </tr>\n    <tr>\n      <th>25%</th>\n      <td>200.7500</td>\n      <td>50.000000</td>\n      <td>55.000000</td>\n      <td>50.000000</td>\n      <td>49.750000</td>\n      <td>50.000000</td>\n      <td>45.000000</td>\n      <td>2.00000</td>\n    </tr>\n    <tr>\n      <th>50%</th>\n      <td>400.5000</td>\n      <td>65.000000</td>\n      <td>75.000000</td>\n      <td>70.000000</td>\n      <td>65.000000</td>\n      <td>70.000000</td>\n      <td>65.000000</td>\n      <td>3.00000</td>\n    </tr>\n    <tr>\n      <th>75%</th>\n      <td>600.2500</td>\n      <td>80.000000</td>\n      <td>100.000000</td>\n      <td>90.000000</td>\n      <td>95.000000</td>\n      <td>90.000000</td>\n      <td>90.000000</td>\n      <td>5.00000</td>\n    </tr>\n    <tr>\n      <th>max</th>\n      <td>800.0000</td>\n      <td>255.000000</td>\n      <td>190.000000</td>\n      <td>230.000000</td>\n      <td>194.000000</td>\n      <td>230.000000</td>\n      <td>180.000000</td>\n      <td>6.00000</td>\n    </tr>\n  </tbody>\n</table>\n</div>"
          },
          "metadata": {}
        }
      ]
    },
    {
      "metadata": {
        "trusted": true,
        "_uuid": "2d78e06ce5fe2956ecb49acc37165f106941bd83",
        "collapsed": true
      },
      "cell_type": "code",
      "source": "data.boxplot(column='Attack',by ='Legendary')\nplt.show()",
      "execution_count": null,
      "outputs": []
    },
    {
      "metadata": {
        "_uuid": "42ef45b2bafde7b3c34250ce12cfc327989c69b5"
      },
      "cell_type": "markdown",
      "source": "## Tidy data"
    },
    {
      "metadata": {
        "trusted": true,
        "_uuid": "f60407301a324e6ec6f2eaaf382b999c63f9d428",
        "collapsed": true
      },
      "cell_type": "code",
      "source": "data_new = data.head()\ndata_new",
      "execution_count": null,
      "outputs": []
    },
    {
      "metadata": {
        "trusted": true,
        "_uuid": "0f292e78088916dcbb35faf3d1cc5da2c35f7892",
        "collapsed": true
      },
      "cell_type": "code",
      "source": "melted = pd.melt(frame = data_new,id_vars = 'Name',value_vars = ['Attack','Defense'])\nmelted #default olarak variable ve value değerleri gelir",
      "execution_count": null,
      "outputs": []
    },
    {
      "metadata": {
        "trusted": true,
        "_uuid": "6dd7b7a0ab54ac7f23106ec3e87010849e352e15",
        "collapsed": true
      },
      "cell_type": "code",
      "source": "melted.pivot(index = 'Name',columns ='variable',values='value')",
      "execution_count": null,
      "outputs": []
    },
    {
      "metadata": {
        "trusted": true,
        "_uuid": "d7b866c57e6b28bd365b856729fdae45d6fb75bd",
        "collapsed": true
      },
      "cell_type": "code",
      "source": "data1 = data.head()\ndata2 = data.tail()\nconc_data_row = pd.concat([data1,data2],axis = 0, ignore_index = True) #index sırasında devam eder\nconc_data_row",
      "execution_count": null,
      "outputs": []
    },
    {
      "metadata": {
        "trusted": true,
        "_uuid": "91f90462a2f87a233e8f20bafdb00004701c9370",
        "collapsed": true
      },
      "cell_type": "code",
      "source": "data1 = data['Attack'].head()\ndata2 = data['Defense'].head()\nconc_data_col = pd.concat([data1,data2],axis =1 ) #axis=1 columnları birleştirir.\nconc_data_col",
      "execution_count": null,
      "outputs": []
    },
    {
      "metadata": {
        "_uuid": "597daf710d9de705dda4f660170bb1975d81acf5"
      },
      "cell_type": "markdown",
      "source": "## Data Types"
    },
    {
      "metadata": {
        "trusted": true,
        "_uuid": "d5f2d4e2bf6b2b8f5e78930946ad8743d6ea3302",
        "collapsed": true
      },
      "cell_type": "code",
      "source": "data.dtypes",
      "execution_count": null,
      "outputs": []
    },
    {
      "metadata": {
        "trusted": true,
        "collapsed": true,
        "_uuid": "f2cd222f5fab1a7c7afbad17fcabf480aa4e75d0"
      },
      "cell_type": "code",
      "source": "data['Type 1'] = data['Type 1'].astype('category') # object türünü category türüne dönüştürdük\ndata['Speed'] = data['Speed'].astype('float') # int türünü float türüne dönüştürmüş olduk",
      "execution_count": null,
      "outputs": []
    },
    {
      "metadata": {
        "trusted": true,
        "_uuid": "b6cda569e8ac0a06f62762d1fb24987d33cdf642",
        "collapsed": true
      },
      "cell_type": "code",
      "source": "data.dtypes",
      "execution_count": null,
      "outputs": []
    },
    {
      "metadata": {
        "trusted": true,
        "collapsed": true,
        "_uuid": "8ab0a31b44fa65e362997b1f0d4f864e4ca47486"
      },
      "cell_type": "markdown",
      "source": "## Missing data"
    },
    {
      "metadata": {
        "trusted": true,
        "_uuid": "c4ddc2b4e098995a23472c4f126da8ca46dbc601",
        "collapsed": true
      },
      "cell_type": "code",
      "source": "data.info()",
      "execution_count": null,
      "outputs": []
    },
    {
      "metadata": {
        "trusted": true,
        "_uuid": "4e594b73dc18e69e3a0d5537b94950a308228092",
        "collapsed": true
      },
      "cell_type": "code",
      "source": "data['Type 2'].value_counts(dropna = False) # hangi elemandan kaç tane olduğunu verir",
      "execution_count": null,
      "outputs": []
    },
    {
      "metadata": {
        "trusted": true,
        "collapsed": true,
        "_uuid": "dc95a3a23441eea7a7c8cad83232f4ab1e48355e"
      },
      "cell_type": "code",
      "source": "data1=data\ndata1['Type 2'].dropna(inplace = True ) #null olanları drop et pokemon listesinde at",
      "execution_count": null,
      "outputs": []
    },
    {
      "metadata": {
        "trusted": true,
        "collapsed": true,
        "_uuid": "0de348b636fdeecd7aaf2e33c6aa54fcd3babdb5"
      },
      "cell_type": "code",
      "source": "assert 1==1 # Hiç bir şey döndürmezse doğrudur",
      "execution_count": null,
      "outputs": []
    },
    {
      "metadata": {
        "trusted": true,
        "_uuid": "61026bf58323d1b27503db71cf6e12d3e378f77d",
        "collapsed": true
      },
      "cell_type": "code",
      "source": "asser 1==2 ",
      "execution_count": null,
      "outputs": []
    },
    {
      "metadata": {
        "trusted": true,
        "collapsed": true,
        "_uuid": "4ffbcfe1d629c9b7d3a4ad672e54a2b2aecb226b"
      },
      "cell_type": "code",
      "source": "assert data['Type 2'].notnull().all() #içeride notnoll değeri yoktur geriye bir şey döndürmez",
      "execution_count": null,
      "outputs": []
    },
    {
      "metadata": {
        "trusted": true,
        "collapsed": true,
        "_uuid": "00d818f62fa6aa2cc07ec1e2cc5758fdc4aa0045"
      },
      "cell_type": "code",
      "source": "data['Type 2'].fillna('empty',inplace = True)",
      "execution_count": null,
      "outputs": []
    },
    {
      "metadata": {
        "trusted": true,
        "collapsed": true,
        "_uuid": "c19ade7e0210f2eff54c6fbe531dbd4ff538389e"
      },
      "cell_type": "code",
      "source": "assert data['Type 2'].notnull().all()",
      "execution_count": null,
      "outputs": []
    },
    {
      "metadata": {
        "trusted": true,
        "_uuid": "bf7f08e91bd98bc7d0f07571c185bb0d5ef3285b",
        "collapsed": true
      },
      "cell_type": "code",
      "source": "data.head()",
      "execution_count": null,
      "outputs": []
    },
    {
      "metadata": {
        "trusted": true,
        "_uuid": "bcf81817bb8848225e439187304e5563ec43b712",
        "collapsed": true
      },
      "cell_type": "code",
      "source": "data.Speed.dtypes",
      "execution_count": null,
      "outputs": []
    },
    {
      "metadata": {
        "trusted": true,
        "_uuid": "44c9bc1d0247a3b108db535ad803c55585136690"
      },
      "cell_type": "code",
      "source": "# assert data.Speed.dtypes ==np.int\nassert data.Speed.dtypes ==np.float",
      "execution_count": 114,
      "outputs": [
        {
          "output_type": "error",
          "ename": "AssertionError",
          "evalue": "",
          "traceback": [
            "\u001b[0;31m---------------------------------------------------------------------------\u001b[0m",
            "\u001b[0;31mAssertionError\u001b[0m                            Traceback (most recent call last)",
            "\u001b[0;32m<ipython-input-114-f3e19eb481c7>\u001b[0m in \u001b[0;36m<module>\u001b[0;34m()\u001b[0m\n\u001b[1;32m      1\u001b[0m \u001b[0;31m# assert data.Speed.dtypes ==np.int\u001b[0m\u001b[0;34m\u001b[0m\u001b[0;34m\u001b[0m\u001b[0m\n\u001b[0;32m----> 2\u001b[0;31m \u001b[0;32massert\u001b[0m \u001b[0mdata\u001b[0m\u001b[0;34m.\u001b[0m\u001b[0mSpeed\u001b[0m\u001b[0;34m.\u001b[0m\u001b[0mdtypes\u001b[0m \u001b[0;34m==\u001b[0m\u001b[0mnp\u001b[0m\u001b[0;34m.\u001b[0m\u001b[0mfloat\u001b[0m\u001b[0;34m\u001b[0m\u001b[0m\n\u001b[0m",
            "\u001b[0;31mAssertionError\u001b[0m: "
          ]
        }
      ]
    },
    {
      "metadata": {
        "_uuid": "974b429f767758e4b9536abd266c85f581987199"
      },
      "cell_type": "markdown",
      "source": "# 4. PANDAS FOUNDATION"
    },
    {
      "metadata": {
        "trusted": true,
        "_uuid": "c35f5f981abe61c4a51f14bc3be7d2b279245a8b",
        "collapsed": true
      },
      "cell_type": "code",
      "source": "data1 = data.loc[:,['Attack','Defense','Speed']]\ndata1.plot()",
      "execution_count": null,
      "outputs": []
    },
    {
      "metadata": {
        "trusted": true,
        "_uuid": "88bb999595f7bbedeeb9cd5194275fe88c6a2035",
        "collapsed": true
      },
      "cell_type": "code",
      "source": "data1.plot(subplots = True)\nplt.show()",
      "execution_count": null,
      "outputs": []
    },
    {
      "metadata": {
        "trusted": true,
        "_uuid": "d961cdbece25b2fc494be126e522cc3b13e8300a",
        "collapsed": true
      },
      "cell_type": "code",
      "source": "data1.plot(kind = 'scatter',x = 'Attack',y ='Defense')",
      "execution_count": null,
      "outputs": []
    },
    {
      "metadata": {
        "trusted": true,
        "_uuid": "e5cd809a7dd60059d433aa7210dce55d806034ec",
        "collapsed": true
      },
      "cell_type": "code",
      "source": "data1.plot(kind= 'hist',y='Defense',bins=50,range=(0,250),normed=True)",
      "execution_count": null,
      "outputs": []
    },
    {
      "metadata": {
        "trusted": true,
        "_uuid": "ff1c2376929ea351d03f8a98755b781cfc3a0964",
        "collapsed": true
      },
      "cell_type": "code",
      "source": "fig, axes = plt.subplots(nrows =2 , ncols = 1)\ndata1.plot(kind ='hist',y = 'Defense',bins = 50, range =(0,250),normed = True, ax = axes[0])\ndata1.plot(kind = 'hist',y='Defense', bins=50 , range = (0,250),normed=True, ax =axes[1],cumulative =True)# cumulative her zaman toplayarak gider\nplt.savefig('graph.png')\nplt",
      "execution_count": null,
      "outputs": []
    },
    {
      "metadata": {
        "_uuid": "4f93d4d79e5b17a50464a7933f289f3cd47880ca"
      },
      "cell_type": "markdown",
      "source": "## indexing pandas time series "
    },
    {
      "metadata": {
        "_uuid": "dc47cce44b6829dde2b4e9542e58ce6b1d3c954b"
      },
      "cell_type": "markdown",
      "source": "parse_dates(boolean) : Transform date to ISO 8601 (yyyy-mm-dd hh:mm:ss)format"
    },
    {
      "metadata": {
        "trusted": true,
        "_uuid": "851ccdce2579c80ad57376885162b9be2f9d1827"
      },
      "cell_type": "code",
      "source": "time_list = [\"1992-03-08\",'1992-04-12']\nprint(type(time_list[1]))\ndatetime_object = pd.to_datetime(time_list)\nprint(type(datetime_object))",
      "execution_count": 79,
      "outputs": [
        {
          "output_type": "stream",
          "text": "<class 'str'>\n<class 'pandas.core.indexes.datetimes.DatetimeIndex'>\n",
          "name": "stdout"
        }
      ]
    },
    {
      "metadata": {
        "trusted": true,
        "_uuid": "09334c02b43cd88806e6eaf2933d6f5de9cbf8e8"
      },
      "cell_type": "code",
      "source": "import warnings\n\nwarnings.filterwarnings(\"ignore\")\ndata2 = data.head()\ndate_list = [\"1992-01-10\",\"1992-02-10\",\"1992-03-10\",\"1993-03-15\",\"1993-03-16\"]\ndatetime_object = pd.to_datetime(date_list)\ndata2[\"date\"] = datetime_object\ndata2= data2.set_index(\"date\")\ndata2 ",
      "execution_count": 85,
      "outputs": [
        {
          "output_type": "execute_result",
          "execution_count": 85,
          "data": {
            "text/plain": "            #           Name Type 1    ...     Speed  Generation  Legendary\ndate                                   ...                                 \n1992-01-10  1      Bulbasaur  Grass    ...        45           1      False\n1992-02-10  2        Ivysaur  Grass    ...        60           1      False\n1992-03-10  3       Venusaur  Grass    ...        80           1      False\n1993-03-15  4  Mega Venusaur  Grass    ...        80           1      False\n1993-03-16  5     Charmander   Fire    ...        65           1      False\n\n[5 rows x 12 columns]",
            "text/html": "<div>\n<style scoped>\n    .dataframe tbody tr th:only-of-type {\n        vertical-align: middle;\n    }\n\n    .dataframe tbody tr th {\n        vertical-align: top;\n    }\n\n    .dataframe thead th {\n        text-align: right;\n    }\n</style>\n<table border=\"1\" class=\"dataframe\">\n  <thead>\n    <tr style=\"text-align: right;\">\n      <th></th>\n      <th>#</th>\n      <th>Name</th>\n      <th>Type 1</th>\n      <th>Type 2</th>\n      <th>HP</th>\n      <th>Attack</th>\n      <th>Defense</th>\n      <th>Sp. Atk</th>\n      <th>Sp. Def</th>\n      <th>Speed</th>\n      <th>Generation</th>\n      <th>Legendary</th>\n    </tr>\n    <tr>\n      <th>date</th>\n      <th></th>\n      <th></th>\n      <th></th>\n      <th></th>\n      <th></th>\n      <th></th>\n      <th></th>\n      <th></th>\n      <th></th>\n      <th></th>\n      <th></th>\n      <th></th>\n    </tr>\n  </thead>\n  <tbody>\n    <tr>\n      <th>1992-01-10</th>\n      <td>1</td>\n      <td>Bulbasaur</td>\n      <td>Grass</td>\n      <td>Poison</td>\n      <td>45</td>\n      <td>49</td>\n      <td>49</td>\n      <td>65</td>\n      <td>65</td>\n      <td>45</td>\n      <td>1</td>\n      <td>False</td>\n    </tr>\n    <tr>\n      <th>1992-02-10</th>\n      <td>2</td>\n      <td>Ivysaur</td>\n      <td>Grass</td>\n      <td>Poison</td>\n      <td>60</td>\n      <td>62</td>\n      <td>63</td>\n      <td>80</td>\n      <td>80</td>\n      <td>60</td>\n      <td>1</td>\n      <td>False</td>\n    </tr>\n    <tr>\n      <th>1992-03-10</th>\n      <td>3</td>\n      <td>Venusaur</td>\n      <td>Grass</td>\n      <td>Poison</td>\n      <td>80</td>\n      <td>82</td>\n      <td>83</td>\n      <td>100</td>\n      <td>100</td>\n      <td>80</td>\n      <td>1</td>\n      <td>False</td>\n    </tr>\n    <tr>\n      <th>1993-03-15</th>\n      <td>4</td>\n      <td>Mega Venusaur</td>\n      <td>Grass</td>\n      <td>Poison</td>\n      <td>80</td>\n      <td>100</td>\n      <td>123</td>\n      <td>122</td>\n      <td>120</td>\n      <td>80</td>\n      <td>1</td>\n      <td>False</td>\n    </tr>\n    <tr>\n      <th>1993-03-16</th>\n      <td>5</td>\n      <td>Charmander</td>\n      <td>Fire</td>\n      <td>NaN</td>\n      <td>39</td>\n      <td>52</td>\n      <td>43</td>\n      <td>60</td>\n      <td>50</td>\n      <td>65</td>\n      <td>1</td>\n      <td>False</td>\n    </tr>\n  </tbody>\n</table>\n</div>"
          },
          "metadata": {}
        }
      ]
    },
    {
      "metadata": {
        "trusted": true,
        "_uuid": "77cfa8e4ca0070facaed79767c953a2908905539"
      },
      "cell_type": "code",
      "source": "print(data2.loc['1993-03-16'])\nprint(data2.loc['1992-03-10':'1993-03-16'])",
      "execution_count": 87,
      "outputs": [
        {
          "output_type": "stream",
          "text": "#                      5\nName          Charmander\nType 1              Fire\nType 2               NaN\nHP                    39\nAttack                52\nDefense               43\nSp. Atk               60\nSp. Def               50\nSpeed                 65\nGeneration             1\nLegendary          False\nName: 1993-03-16 00:00:00, dtype: object\n            #           Name Type 1    ...     Speed  Generation  Legendary\ndate                                   ...                                 \n1992-03-10  3       Venusaur  Grass    ...        80           1      False\n1993-03-15  4  Mega Venusaur  Grass    ...        80           1      False\n1993-03-16  5     Charmander   Fire    ...        65           1      False\n\n[3 rows x 12 columns]\n",
          "name": "stdout"
        }
      ]
    },
    {
      "metadata": {
        "trusted": true,
        "collapsed": true,
        "_uuid": "3c69c01cab0e0a1e9e621122ef457030208ae123"
      },
      "cell_type": "markdown",
      "source": "## RESAMPLING PANDAS TIME SERIES"
    },
    {
      "metadata": {
        "trusted": true,
        "_uuid": "263bdd958aaf61e1760371954e20ecb800c47937"
      },
      "cell_type": "code",
      "source": "data2.resample('A').mean() # A = year, M = month",
      "execution_count": 89,
      "outputs": [
        {
          "output_type": "execute_result",
          "execution_count": 89,
          "data": {
            "text/plain": "              #         HP    ...      Generation  Legendary\ndate                          ...                           \n1992-12-31  2.0  61.666667    ...             1.0      False\n1993-12-31  4.5  59.500000    ...             1.0      False\n\n[2 rows x 9 columns]",
            "text/html": "<div>\n<style scoped>\n    .dataframe tbody tr th:only-of-type {\n        vertical-align: middle;\n    }\n\n    .dataframe tbody tr th {\n        vertical-align: top;\n    }\n\n    .dataframe thead th {\n        text-align: right;\n    }\n</style>\n<table border=\"1\" class=\"dataframe\">\n  <thead>\n    <tr style=\"text-align: right;\">\n      <th></th>\n      <th>#</th>\n      <th>HP</th>\n      <th>Attack</th>\n      <th>Defense</th>\n      <th>Sp. Atk</th>\n      <th>Sp. Def</th>\n      <th>Speed</th>\n      <th>Generation</th>\n      <th>Legendary</th>\n    </tr>\n    <tr>\n      <th>date</th>\n      <th></th>\n      <th></th>\n      <th></th>\n      <th></th>\n      <th></th>\n      <th></th>\n      <th></th>\n      <th></th>\n      <th></th>\n    </tr>\n  </thead>\n  <tbody>\n    <tr>\n      <th>1992-12-31</th>\n      <td>2.0</td>\n      <td>61.666667</td>\n      <td>64.333333</td>\n      <td>65.0</td>\n      <td>81.666667</td>\n      <td>81.666667</td>\n      <td>61.666667</td>\n      <td>1.0</td>\n      <td>False</td>\n    </tr>\n    <tr>\n      <th>1993-12-31</th>\n      <td>4.5</td>\n      <td>59.500000</td>\n      <td>76.000000</td>\n      <td>83.0</td>\n      <td>91.000000</td>\n      <td>85.000000</td>\n      <td>72.500000</td>\n      <td>1.0</td>\n      <td>False</td>\n    </tr>\n  </tbody>\n</table>\n</div>"
          },
          "metadata": {}
        }
      ]
    },
    {
      "metadata": {
        "trusted": true,
        "_uuid": "2f75e6944bee801e69f4ea55ba245a816a1c7433"
      },
      "cell_type": "code",
      "source": "data2.resample('M').mean()",
      "execution_count": 90,
      "outputs": [
        {
          "output_type": "execute_result",
          "execution_count": 90,
          "data": {
            "text/plain": "              #    HP  Attack    ...      Speed  Generation  Legendary\ndate                             ...                                  \n1992-01-31  1.0  45.0    49.0    ...       45.0         1.0        0.0\n1992-02-29  2.0  60.0    62.0    ...       60.0         1.0        0.0\n1992-03-31  3.0  80.0    82.0    ...       80.0         1.0        0.0\n1992-04-30  NaN   NaN     NaN    ...        NaN         NaN        NaN\n1992-05-31  NaN   NaN     NaN    ...        NaN         NaN        NaN\n1992-06-30  NaN   NaN     NaN    ...        NaN         NaN        NaN\n1992-07-31  NaN   NaN     NaN    ...        NaN         NaN        NaN\n1992-08-31  NaN   NaN     NaN    ...        NaN         NaN        NaN\n1992-09-30  NaN   NaN     NaN    ...        NaN         NaN        NaN\n1992-10-31  NaN   NaN     NaN    ...        NaN         NaN        NaN\n1992-11-30  NaN   NaN     NaN    ...        NaN         NaN        NaN\n1992-12-31  NaN   NaN     NaN    ...        NaN         NaN        NaN\n1993-01-31  NaN   NaN     NaN    ...        NaN         NaN        NaN\n1993-02-28  NaN   NaN     NaN    ...        NaN         NaN        NaN\n1993-03-31  4.5  59.5    76.0    ...       72.5         1.0        0.0\n\n[15 rows x 9 columns]",
            "text/html": "<div>\n<style scoped>\n    .dataframe tbody tr th:only-of-type {\n        vertical-align: middle;\n    }\n\n    .dataframe tbody tr th {\n        vertical-align: top;\n    }\n\n    .dataframe thead th {\n        text-align: right;\n    }\n</style>\n<table border=\"1\" class=\"dataframe\">\n  <thead>\n    <tr style=\"text-align: right;\">\n      <th></th>\n      <th>#</th>\n      <th>HP</th>\n      <th>Attack</th>\n      <th>Defense</th>\n      <th>Sp. Atk</th>\n      <th>Sp. Def</th>\n      <th>Speed</th>\n      <th>Generation</th>\n      <th>Legendary</th>\n    </tr>\n    <tr>\n      <th>date</th>\n      <th></th>\n      <th></th>\n      <th></th>\n      <th></th>\n      <th></th>\n      <th></th>\n      <th></th>\n      <th></th>\n      <th></th>\n    </tr>\n  </thead>\n  <tbody>\n    <tr>\n      <th>1992-01-31</th>\n      <td>1.0</td>\n      <td>45.0</td>\n      <td>49.0</td>\n      <td>49.0</td>\n      <td>65.0</td>\n      <td>65.0</td>\n      <td>45.0</td>\n      <td>1.0</td>\n      <td>0.0</td>\n    </tr>\n    <tr>\n      <th>1992-02-29</th>\n      <td>2.0</td>\n      <td>60.0</td>\n      <td>62.0</td>\n      <td>63.0</td>\n      <td>80.0</td>\n      <td>80.0</td>\n      <td>60.0</td>\n      <td>1.0</td>\n      <td>0.0</td>\n    </tr>\n    <tr>\n      <th>1992-03-31</th>\n      <td>3.0</td>\n      <td>80.0</td>\n      <td>82.0</td>\n      <td>83.0</td>\n      <td>100.0</td>\n      <td>100.0</td>\n      <td>80.0</td>\n      <td>1.0</td>\n      <td>0.0</td>\n    </tr>\n    <tr>\n      <th>1992-04-30</th>\n      <td>NaN</td>\n      <td>NaN</td>\n      <td>NaN</td>\n      <td>NaN</td>\n      <td>NaN</td>\n      <td>NaN</td>\n      <td>NaN</td>\n      <td>NaN</td>\n      <td>NaN</td>\n    </tr>\n    <tr>\n      <th>1992-05-31</th>\n      <td>NaN</td>\n      <td>NaN</td>\n      <td>NaN</td>\n      <td>NaN</td>\n      <td>NaN</td>\n      <td>NaN</td>\n      <td>NaN</td>\n      <td>NaN</td>\n      <td>NaN</td>\n    </tr>\n    <tr>\n      <th>1992-06-30</th>\n      <td>NaN</td>\n      <td>NaN</td>\n      <td>NaN</td>\n      <td>NaN</td>\n      <td>NaN</td>\n      <td>NaN</td>\n      <td>NaN</td>\n      <td>NaN</td>\n      <td>NaN</td>\n    </tr>\n    <tr>\n      <th>1992-07-31</th>\n      <td>NaN</td>\n      <td>NaN</td>\n      <td>NaN</td>\n      <td>NaN</td>\n      <td>NaN</td>\n      <td>NaN</td>\n      <td>NaN</td>\n      <td>NaN</td>\n      <td>NaN</td>\n    </tr>\n    <tr>\n      <th>1992-08-31</th>\n      <td>NaN</td>\n      <td>NaN</td>\n      <td>NaN</td>\n      <td>NaN</td>\n      <td>NaN</td>\n      <td>NaN</td>\n      <td>NaN</td>\n      <td>NaN</td>\n      <td>NaN</td>\n    </tr>\n    <tr>\n      <th>1992-09-30</th>\n      <td>NaN</td>\n      <td>NaN</td>\n      <td>NaN</td>\n      <td>NaN</td>\n      <td>NaN</td>\n      <td>NaN</td>\n      <td>NaN</td>\n      <td>NaN</td>\n      <td>NaN</td>\n    </tr>\n    <tr>\n      <th>1992-10-31</th>\n      <td>NaN</td>\n      <td>NaN</td>\n      <td>NaN</td>\n      <td>NaN</td>\n      <td>NaN</td>\n      <td>NaN</td>\n      <td>NaN</td>\n      <td>NaN</td>\n      <td>NaN</td>\n    </tr>\n    <tr>\n      <th>1992-11-30</th>\n      <td>NaN</td>\n      <td>NaN</td>\n      <td>NaN</td>\n      <td>NaN</td>\n      <td>NaN</td>\n      <td>NaN</td>\n      <td>NaN</td>\n      <td>NaN</td>\n      <td>NaN</td>\n    </tr>\n    <tr>\n      <th>1992-12-31</th>\n      <td>NaN</td>\n      <td>NaN</td>\n      <td>NaN</td>\n      <td>NaN</td>\n      <td>NaN</td>\n      <td>NaN</td>\n      <td>NaN</td>\n      <td>NaN</td>\n      <td>NaN</td>\n    </tr>\n    <tr>\n      <th>1993-01-31</th>\n      <td>NaN</td>\n      <td>NaN</td>\n      <td>NaN</td>\n      <td>NaN</td>\n      <td>NaN</td>\n      <td>NaN</td>\n      <td>NaN</td>\n      <td>NaN</td>\n      <td>NaN</td>\n    </tr>\n    <tr>\n      <th>1993-02-28</th>\n      <td>NaN</td>\n      <td>NaN</td>\n      <td>NaN</td>\n      <td>NaN</td>\n      <td>NaN</td>\n      <td>NaN</td>\n      <td>NaN</td>\n      <td>NaN</td>\n      <td>NaN</td>\n    </tr>\n    <tr>\n      <th>1993-03-31</th>\n      <td>4.5</td>\n      <td>59.5</td>\n      <td>76.0</td>\n      <td>83.0</td>\n      <td>91.0</td>\n      <td>85.0</td>\n      <td>72.5</td>\n      <td>1.0</td>\n      <td>0.0</td>\n    </tr>\n  </tbody>\n</table>\n</div>"
          },
          "metadata": {}
        }
      ]
    },
    {
      "metadata": {
        "trusted": true,
        "_uuid": "1569c02bf5213bd94f0bc9b766b0d36ef94cdf28"
      },
      "cell_type": "code",
      "source": "data2.resample('M').first().interpolate('linear')",
      "execution_count": 91,
      "outputs": [
        {
          "output_type": "execute_result",
          "execution_count": 91,
          "data": {
            "text/plain": "                   #           Name    ...    Generation Legendary\ndate                                   ...                        \n1992-01-31  1.000000      Bulbasaur    ...           1.0       0.0\n1992-02-29  2.000000        Ivysaur    ...           1.0       0.0\n1992-03-31  3.000000       Venusaur    ...           1.0       0.0\n1992-04-30  3.083333            NaN    ...           1.0       0.0\n1992-05-31  3.166667            NaN    ...           1.0       0.0\n1992-06-30  3.250000            NaN    ...           1.0       0.0\n1992-07-31  3.333333            NaN    ...           1.0       0.0\n1992-08-31  3.416667            NaN    ...           1.0       0.0\n1992-09-30  3.500000            NaN    ...           1.0       0.0\n1992-10-31  3.583333            NaN    ...           1.0       0.0\n1992-11-30  3.666667            NaN    ...           1.0       0.0\n1992-12-31  3.750000            NaN    ...           1.0       0.0\n1993-01-31  3.833333            NaN    ...           1.0       0.0\n1993-02-28  3.916667            NaN    ...           1.0       0.0\n1993-03-31  4.000000  Mega Venusaur    ...           1.0       0.0\n\n[15 rows x 12 columns]",
            "text/html": "<div>\n<style scoped>\n    .dataframe tbody tr th:only-of-type {\n        vertical-align: middle;\n    }\n\n    .dataframe tbody tr th {\n        vertical-align: top;\n    }\n\n    .dataframe thead th {\n        text-align: right;\n    }\n</style>\n<table border=\"1\" class=\"dataframe\">\n  <thead>\n    <tr style=\"text-align: right;\">\n      <th></th>\n      <th>#</th>\n      <th>Name</th>\n      <th>Type 1</th>\n      <th>Type 2</th>\n      <th>HP</th>\n      <th>Attack</th>\n      <th>Defense</th>\n      <th>Sp. Atk</th>\n      <th>Sp. Def</th>\n      <th>Speed</th>\n      <th>Generation</th>\n      <th>Legendary</th>\n    </tr>\n    <tr>\n      <th>date</th>\n      <th></th>\n      <th></th>\n      <th></th>\n      <th></th>\n      <th></th>\n      <th></th>\n      <th></th>\n      <th></th>\n      <th></th>\n      <th></th>\n      <th></th>\n      <th></th>\n    </tr>\n  </thead>\n  <tbody>\n    <tr>\n      <th>1992-01-31</th>\n      <td>1.000000</td>\n      <td>Bulbasaur</td>\n      <td>Grass</td>\n      <td>Poison</td>\n      <td>45.0</td>\n      <td>49.0</td>\n      <td>49.000000</td>\n      <td>65.000000</td>\n      <td>65.000000</td>\n      <td>45.0</td>\n      <td>1.0</td>\n      <td>0.0</td>\n    </tr>\n    <tr>\n      <th>1992-02-29</th>\n      <td>2.000000</td>\n      <td>Ivysaur</td>\n      <td>Grass</td>\n      <td>Poison</td>\n      <td>60.0</td>\n      <td>62.0</td>\n      <td>63.000000</td>\n      <td>80.000000</td>\n      <td>80.000000</td>\n      <td>60.0</td>\n      <td>1.0</td>\n      <td>0.0</td>\n    </tr>\n    <tr>\n      <th>1992-03-31</th>\n      <td>3.000000</td>\n      <td>Venusaur</td>\n      <td>Grass</td>\n      <td>Poison</td>\n      <td>80.0</td>\n      <td>82.0</td>\n      <td>83.000000</td>\n      <td>100.000000</td>\n      <td>100.000000</td>\n      <td>80.0</td>\n      <td>1.0</td>\n      <td>0.0</td>\n    </tr>\n    <tr>\n      <th>1992-04-30</th>\n      <td>3.083333</td>\n      <td>NaN</td>\n      <td>NaN</td>\n      <td>NaN</td>\n      <td>80.0</td>\n      <td>83.5</td>\n      <td>86.333333</td>\n      <td>101.833333</td>\n      <td>101.666667</td>\n      <td>80.0</td>\n      <td>1.0</td>\n      <td>0.0</td>\n    </tr>\n    <tr>\n      <th>1992-05-31</th>\n      <td>3.166667</td>\n      <td>NaN</td>\n      <td>NaN</td>\n      <td>NaN</td>\n      <td>80.0</td>\n      <td>85.0</td>\n      <td>89.666667</td>\n      <td>103.666667</td>\n      <td>103.333333</td>\n      <td>80.0</td>\n      <td>1.0</td>\n      <td>0.0</td>\n    </tr>\n    <tr>\n      <th>1992-06-30</th>\n      <td>3.250000</td>\n      <td>NaN</td>\n      <td>NaN</td>\n      <td>NaN</td>\n      <td>80.0</td>\n      <td>86.5</td>\n      <td>93.000000</td>\n      <td>105.500000</td>\n      <td>105.000000</td>\n      <td>80.0</td>\n      <td>1.0</td>\n      <td>0.0</td>\n    </tr>\n    <tr>\n      <th>1992-07-31</th>\n      <td>3.333333</td>\n      <td>NaN</td>\n      <td>NaN</td>\n      <td>NaN</td>\n      <td>80.0</td>\n      <td>88.0</td>\n      <td>96.333333</td>\n      <td>107.333333</td>\n      <td>106.666667</td>\n      <td>80.0</td>\n      <td>1.0</td>\n      <td>0.0</td>\n    </tr>\n    <tr>\n      <th>1992-08-31</th>\n      <td>3.416667</td>\n      <td>NaN</td>\n      <td>NaN</td>\n      <td>NaN</td>\n      <td>80.0</td>\n      <td>89.5</td>\n      <td>99.666667</td>\n      <td>109.166667</td>\n      <td>108.333333</td>\n      <td>80.0</td>\n      <td>1.0</td>\n      <td>0.0</td>\n    </tr>\n    <tr>\n      <th>1992-09-30</th>\n      <td>3.500000</td>\n      <td>NaN</td>\n      <td>NaN</td>\n      <td>NaN</td>\n      <td>80.0</td>\n      <td>91.0</td>\n      <td>103.000000</td>\n      <td>111.000000</td>\n      <td>110.000000</td>\n      <td>80.0</td>\n      <td>1.0</td>\n      <td>0.0</td>\n    </tr>\n    <tr>\n      <th>1992-10-31</th>\n      <td>3.583333</td>\n      <td>NaN</td>\n      <td>NaN</td>\n      <td>NaN</td>\n      <td>80.0</td>\n      <td>92.5</td>\n      <td>106.333333</td>\n      <td>112.833333</td>\n      <td>111.666667</td>\n      <td>80.0</td>\n      <td>1.0</td>\n      <td>0.0</td>\n    </tr>\n    <tr>\n      <th>1992-11-30</th>\n      <td>3.666667</td>\n      <td>NaN</td>\n      <td>NaN</td>\n      <td>NaN</td>\n      <td>80.0</td>\n      <td>94.0</td>\n      <td>109.666667</td>\n      <td>114.666667</td>\n      <td>113.333333</td>\n      <td>80.0</td>\n      <td>1.0</td>\n      <td>0.0</td>\n    </tr>\n    <tr>\n      <th>1992-12-31</th>\n      <td>3.750000</td>\n      <td>NaN</td>\n      <td>NaN</td>\n      <td>NaN</td>\n      <td>80.0</td>\n      <td>95.5</td>\n      <td>113.000000</td>\n      <td>116.500000</td>\n      <td>115.000000</td>\n      <td>80.0</td>\n      <td>1.0</td>\n      <td>0.0</td>\n    </tr>\n    <tr>\n      <th>1993-01-31</th>\n      <td>3.833333</td>\n      <td>NaN</td>\n      <td>NaN</td>\n      <td>NaN</td>\n      <td>80.0</td>\n      <td>97.0</td>\n      <td>116.333333</td>\n      <td>118.333333</td>\n      <td>116.666667</td>\n      <td>80.0</td>\n      <td>1.0</td>\n      <td>0.0</td>\n    </tr>\n    <tr>\n      <th>1993-02-28</th>\n      <td>3.916667</td>\n      <td>NaN</td>\n      <td>NaN</td>\n      <td>NaN</td>\n      <td>80.0</td>\n      <td>98.5</td>\n      <td>119.666667</td>\n      <td>120.166667</td>\n      <td>118.333333</td>\n      <td>80.0</td>\n      <td>1.0</td>\n      <td>0.0</td>\n    </tr>\n    <tr>\n      <th>1993-03-31</th>\n      <td>4.000000</td>\n      <td>Mega Venusaur</td>\n      <td>Grass</td>\n      <td>Poison</td>\n      <td>80.0</td>\n      <td>100.0</td>\n      <td>123.000000</td>\n      <td>122.000000</td>\n      <td>120.000000</td>\n      <td>80.0</td>\n      <td>1.0</td>\n      <td>0.0</td>\n    </tr>\n  </tbody>\n</table>\n</div>"
          },
          "metadata": {}
        }
      ]
    },
    {
      "metadata": {
        "trusted": true,
        "collapsed": true,
        "_uuid": "9b34996becd5de999cb8c933a27a581108c5caab"
      },
      "cell_type": "code",
      "source": "",
      "execution_count": null,
      "outputs": []
    },
    {
      "metadata": {
        "trusted": true,
        "collapsed": true,
        "_uuid": "6128535f9c1d8ef27d7e57de02069364c7e645f3"
      },
      "cell_type": "code",
      "source": "",
      "execution_count": null,
      "outputs": []
    }
  ],
  "metadata": {
    "kernelspec": {
      "display_name": "Python 3",
      "language": "python",
      "name": "python3"
    },
    "language_info": {
      "name": "python",
      "version": "3.6.6",
      "mimetype": "text/x-python",
      "codemirror_mode": {
        "name": "ipython",
        "version": 3
      },
      "pygments_lexer": "ipython3",
      "nbconvert_exporter": "python",
      "file_extension": ".py"
    }
  },
  "nbformat": 4,
  "nbformat_minor": 1
}