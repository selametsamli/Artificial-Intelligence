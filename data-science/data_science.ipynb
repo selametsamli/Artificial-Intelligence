{
  "cells": [
    {
      "metadata": {
        "_uuid": "8f2839f25d086af736a60e9eeb907d3b93b6e0e5",
        "_cell_guid": "b1076dfc-b9ad-4769-8c92-a6c4dae69d19",
        "trusted": true
      },
      "cell_type": "code",
      "source": "# This Python 3 environment comes with many helpful analytics libraries installed\n# It is defined by the kaggle/python docker image: https://github.com/kaggle/docker-python\n# For example, here's several helpful packages to load in \n\nimport numpy as np # linear algebra\nimport pandas as pd # data processing, CSV file I/O (e.g. pd.read_csv)\nimport matplotlib.pyplot as plt\nimport seaborn as sns\n\n# Input data files are available in the \"../input/\" directory.\n# For example, running this (by clicking run or pressing Shift+Enter) will list the files in the input directory\n\nimport os\nprint(os.listdir(\"../input\"))\n\n# Any results you write to the current directory are saved as output.",
      "execution_count": 1,
      "outputs": [
        {
          "output_type": "stream",
          "text": "['combats.csv', 'pokemon.csv', 'tests.csv']\n",
          "name": "stdout"
        }
      ]
    },
    {
      "metadata": {
        "_cell_guid": "79c7e3d0-c299-4dcb-8224-4455121ee9b0",
        "collapsed": true,
        "_uuid": "d629ff2d2480ee46fbb7e2d37f6b5fab8052498a",
        "trusted": true
      },
      "cell_type": "code",
      "source": "data = pd.read_csv('../input/pokemon.csv')",
      "execution_count": 3,
      "outputs": []
    },
    {
      "metadata": {
        "_uuid": "bf6ec4d2c43c7fdce443ac6b29d121e2714736da"
      },
      "cell_type": "markdown",
      "source": "User Defined Function \n\n"
    },
    {
      "metadata": {
        "trusted": true,
        "_uuid": "7436d461af22e712de6f66aba7877ca1cc2c858a"
      },
      "cell_type": "code",
      "source": "def tuble_ex():\n    t=(1,2,3)\n    return t\na,b,c =tuble_ex()\nprint(a,b,c)",
      "execution_count": 4,
      "outputs": [
        {
          "output_type": "stream",
          "text": "1 2 3\n",
          "name": "stdout"
        }
      ]
    },
    {
      "metadata": {
        "_uuid": "b8fa85a62093e8b72f9e338593f4972d68d5effd"
      },
      "cell_type": "markdown",
      "source": "# Scope"
    },
    {
      "metadata": {
        "trusted": true,
        "_uuid": "a7eb0321385f8d2b14fe6ebb664a1c5bcf7e98c2"
      },
      "cell_type": "code",
      "source": "x=2\ndef f():\n    x=3\n    return x\nprint(x)  # global scope\nprint(f()) # local scope",
      "execution_count": 6,
      "outputs": [
        {
          "output_type": "stream",
          "text": "2\n3\n",
          "name": "stdout"
        }
      ]
    },
    {
      "metadata": {
        "trusted": true,
        "_uuid": "b4cb11837bd9975929344095a881051873a22b5d"
      },
      "cell_type": "code",
      "source": "x = 5\ndef f():\n    y = 2*x\n    return y\nprint(f())",
      "execution_count": 7,
      "outputs": [
        {
          "output_type": "stream",
          "text": "10\n",
          "name": "stdout"
        }
      ]
    },
    {
      "metadata": {
        "trusted": true,
        "_uuid": "5555bc2e6430394ccd757364cda2560b0a43412c"
      },
      "cell_type": "code",
      "source": "import builtins\ndir(builtins)",
      "execution_count": 8,
      "outputs": [
        {
          "output_type": "execute_result",
          "execution_count": 8,
          "data": {
            "text/plain": "['ArithmeticError',\n 'AssertionError',\n 'AttributeError',\n 'BaseException',\n 'BlockingIOError',\n 'BrokenPipeError',\n 'BufferError',\n 'BytesWarning',\n 'ChildProcessError',\n 'ConnectionAbortedError',\n 'ConnectionError',\n 'ConnectionRefusedError',\n 'ConnectionResetError',\n 'DeprecationWarning',\n 'EOFError',\n 'Ellipsis',\n 'EnvironmentError',\n 'Exception',\n 'False',\n 'FileExistsError',\n 'FileNotFoundError',\n 'FloatingPointError',\n 'FutureWarning',\n 'GeneratorExit',\n 'IOError',\n 'ImportError',\n 'ImportWarning',\n 'IndentationError',\n 'IndexError',\n 'InterruptedError',\n 'IsADirectoryError',\n 'KeyError',\n 'KeyboardInterrupt',\n 'LookupError',\n 'MemoryError',\n 'ModuleNotFoundError',\n 'NameError',\n 'None',\n 'NotADirectoryError',\n 'NotImplemented',\n 'NotImplementedError',\n 'OSError',\n 'OverflowError',\n 'PendingDeprecationWarning',\n 'PermissionError',\n 'ProcessLookupError',\n 'RecursionError',\n 'ReferenceError',\n 'ResourceWarning',\n 'RuntimeError',\n 'RuntimeWarning',\n 'StopAsyncIteration',\n 'StopIteration',\n 'SyntaxError',\n 'SyntaxWarning',\n 'SystemError',\n 'SystemExit',\n 'TabError',\n 'TimeoutError',\n 'True',\n 'TypeError',\n 'UnboundLocalError',\n 'UnicodeDecodeError',\n 'UnicodeEncodeError',\n 'UnicodeError',\n 'UnicodeTranslateError',\n 'UnicodeWarning',\n 'UserWarning',\n 'ValueError',\n 'Warning',\n 'ZeroDivisionError',\n '__IPYTHON__',\n '__build_class__',\n '__debug__',\n '__doc__',\n '__import__',\n '__loader__',\n '__name__',\n '__package__',\n '__pybind11_internals_v1__',\n '__spec__',\n 'abs',\n 'all',\n 'any',\n 'ascii',\n 'bin',\n 'bool',\n 'bytearray',\n 'bytes',\n 'callable',\n 'chr',\n 'classmethod',\n 'compile',\n 'complex',\n 'copyright',\n 'credits',\n 'delattr',\n 'dict',\n 'dir',\n 'display',\n 'divmod',\n 'enumerate',\n 'eval',\n 'exec',\n 'filter',\n 'float',\n 'format',\n 'frozenset',\n 'get_ipython',\n 'getattr',\n 'globals',\n 'hasattr',\n 'hash',\n 'help',\n 'hex',\n 'id',\n 'input',\n 'int',\n 'isinstance',\n 'issubclass',\n 'iter',\n 'len',\n 'license',\n 'list',\n 'locals',\n 'map',\n 'max',\n 'memoryview',\n 'min',\n 'next',\n 'object',\n 'oct',\n 'open',\n 'ord',\n 'pow',\n 'print',\n 'property',\n 'range',\n 'repr',\n 'reversed',\n 'round',\n 'set',\n 'setattr',\n 'slice',\n 'sorted',\n 'staticmethod',\n 'str',\n 'sum',\n 'super',\n 'tuple',\n 'type',\n 'vars',\n 'zip']"
          },
          "metadata": {}
        }
      ]
    },
    {
      "metadata": {
        "_uuid": "2c7ba4f84e0d60a6f1d77fb897add3c667c2cc40"
      },
      "cell_type": "markdown",
      "source": "# Nested Function"
    },
    {
      "metadata": {
        "trusted": true,
        "_uuid": "9ad0bf184118ac7285c2630982d62d38665a3af4"
      },
      "cell_type": "code",
      "source": "def square():\n    def add():\n        x=2\n        y=3\n        z=x+y\n        return z\n    return add()**2\nprint(square())",
      "execution_count": 11,
      "outputs": [
        {
          "output_type": "stream",
          "text": "25\n",
          "name": "stdout"
        }
      ]
    },
    {
      "metadata": {
        "_uuid": "b1edb05af602d892fda71cab813e321d26fd919b"
      },
      "cell_type": "markdown",
      "source": "## DEFAULT and FLEXIBLE ARGUMENTS"
    },
    {
      "metadata": {
        "trusted": true,
        "_uuid": "327479c31a9724b74f6e0c7f5bfc3d8b07a2f382"
      },
      "cell_type": "code",
      "source": "def f(a,b=1, c=2):\n    y= a+b+c\n    return y\nprint(f(5))\nprint(f(5,4,3))",
      "execution_count": 12,
      "outputs": [
        {
          "output_type": "stream",
          "text": "8\n12\n",
          "name": "stdout"
        }
      ]
    },
    {
      "metadata": {
        "trusted": true,
        "_uuid": "de53f91b4dd1f0137c507084d36e80491fbd6104"
      },
      "cell_type": "code",
      "source": "def f(*args):\n    for i in args:\n        print(i)\nf(1)\nprint(\"\")\nf(1,2,3,4)\n\ndef f(**kwargs):\n    for key,value in kwargs.items():\n        print(key,\" \",value)\nf(country = 'spain',capital='madrid',pupulation=123456)",
      "execution_count": 14,
      "outputs": [
        {
          "output_type": "stream",
          "text": "1\n\n1\n2\n3\n4\ncountry   spain\ncapital   madrid\npupulation   123456\n",
          "name": "stdout"
        }
      ]
    },
    {
      "metadata": {
        "_uuid": "b216778162ca1ef8bf1b8536408cc4550700754e"
      },
      "cell_type": "markdown",
      "source": "## anonymous function"
    },
    {
      "metadata": {
        "trusted": true,
        "_uuid": "58fad5540e1b375898ba576051e586cbbda35fae"
      },
      "cell_type": "code",
      "source": "number_list = [1,2,3]\ny= map(lambda x:x**2, number_list)\nprint(list(y))",
      "execution_count": 15,
      "outputs": [
        {
          "output_type": "stream",
          "text": "[1, 4, 9]\n",
          "name": "stdout"
        }
      ]
    },
    {
      "metadata": {
        "_uuid": "932dbcab6365b3e7b71cea2cdcd96f601586f3a1"
      },
      "cell_type": "markdown",
      "source": "## ITERATORS"
    },
    {
      "metadata": {
        "trusted": true,
        "_uuid": "7c31fdaca43e94257b1949c2b0c2d82b00aeab04"
      },
      "cell_type": "code",
      "source": "name = 'ronaldo'\nit = iter(name)\nprint(next(it))\nprint(*it)",
      "execution_count": 16,
      "outputs": [
        {
          "output_type": "stream",
          "text": "r\no n a l d o\n",
          "name": "stdout"
        }
      ]
    },
    {
      "metadata": {
        "trusted": true,
        "_uuid": "546ebe5e4cf9243c2da9f1a52e9a2060025ab145"
      },
      "cell_type": "code",
      "source": "list1 = [1,2,3,4]\nlist2 = [5,6,7,8]\nz = zip(list1,list2)\nprint(z)\nz_list=list(z)\nprint(z_list)",
      "execution_count": 18,
      "outputs": [
        {
          "output_type": "stream",
          "text": "<zip object at 0x7f584a7b49c8>\n[(1, 5), (2, 6), (3, 7), (4, 8)]\n",
          "name": "stdout"
        }
      ]
    },
    {
      "metadata": {
        "trusted": true,
        "_uuid": "99379a193a70e05988569d737b3b11571aa98dd8"
      },
      "cell_type": "code",
      "source": "un_zip =zip(*z_list)\nun_list1,un_list2 = list(un_zip)\nprint(un_list1)\nprint(un_list2)\nprint(type(un_list1))\nprint(type(list(un_list1)))",
      "execution_count": 21,
      "outputs": [
        {
          "output_type": "stream",
          "text": "(1, 2, 3, 4)\n(5, 6, 7, 8)\n<class 'tuple'>\n<class 'list'>\n",
          "name": "stdout"
        }
      ]
    },
    {
      "metadata": {
        "_uuid": "dde712c64205fff9aaef3de64fcc76ceb35655aa"
      },
      "cell_type": "markdown",
      "source": "## List comprehension"
    },
    {
      "metadata": {
        "trusted": true,
        "_uuid": "e6f596286c8c2abcea0c958ac5ace6c9fb137143"
      },
      "cell_type": "code",
      "source": "num1 = [1,2,3]\nnum2 = [i + 1 for i in num1]\nprint(num2)",
      "execution_count": 22,
      "outputs": [
        {
          "output_type": "stream",
          "text": "[2, 3, 4]\n",
          "name": "stdout"
        }
      ]
    },
    {
      "metadata": {
        "trusted": true,
        "_uuid": "a60de669b36643e06c313d00e39c547bfedbefdc"
      },
      "cell_type": "code",
      "source": "num1 = [5,10,15]\nnum2 = [i**2 if i ==10 else i-5 if i<7 else i+5 for i in num1]\nprint(num2)",
      "execution_count": 23,
      "outputs": [
        {
          "output_type": "stream",
          "text": "[0, 100, 20]\n",
          "name": "stdout"
        }
      ]
    },
    {
      "metadata": {
        "trusted": true,
        "_uuid": "5cd5f8eb0f2469232c711dd5acfd14ce4323e4dd"
      },
      "cell_type": "code",
      "source": "threshold = sum(data.Speed)/len(data.Speed)\nprint(\"treshold\",threshold)\ndata['speed_level'] = [\"high\" if i > threshold else \"low\" for i in data.Speed]\ndata.loc[:10,[\"speed_level\",\"Speed\"]]",
      "execution_count": 27,
      "outputs": [
        {
          "output_type": "stream",
          "text": "treshold 68.2775\n",
          "name": "stdout"
        },
        {
          "output_type": "execute_result",
          "execution_count": 27,
          "data": {
            "text/plain": "   speed_level  Speed\n0          low     45\n1          low     60\n2         high     80\n3         high     80\n4          low     65\n5         high     80\n6         high    100\n7         high    100\n8         high    100\n9          low     43\n10         low     58",
            "text/html": "<div>\n<style scoped>\n    .dataframe tbody tr th:only-of-type {\n        vertical-align: middle;\n    }\n\n    .dataframe tbody tr th {\n        vertical-align: top;\n    }\n\n    .dataframe thead th {\n        text-align: right;\n    }\n</style>\n<table border=\"1\" class=\"dataframe\">\n  <thead>\n    <tr style=\"text-align: right;\">\n      <th></th>\n      <th>speed_level</th>\n      <th>Speed</th>\n    </tr>\n  </thead>\n  <tbody>\n    <tr>\n      <th>0</th>\n      <td>low</td>\n      <td>45</td>\n    </tr>\n    <tr>\n      <th>1</th>\n      <td>low</td>\n      <td>60</td>\n    </tr>\n    <tr>\n      <th>2</th>\n      <td>high</td>\n      <td>80</td>\n    </tr>\n    <tr>\n      <th>3</th>\n      <td>high</td>\n      <td>80</td>\n    </tr>\n    <tr>\n      <th>4</th>\n      <td>low</td>\n      <td>65</td>\n    </tr>\n    <tr>\n      <th>5</th>\n      <td>high</td>\n      <td>80</td>\n    </tr>\n    <tr>\n      <th>6</th>\n      <td>high</td>\n      <td>100</td>\n    </tr>\n    <tr>\n      <th>7</th>\n      <td>high</td>\n      <td>100</td>\n    </tr>\n    <tr>\n      <th>8</th>\n      <td>high</td>\n      <td>100</td>\n    </tr>\n    <tr>\n      <th>9</th>\n      <td>low</td>\n      <td>43</td>\n    </tr>\n    <tr>\n      <th>10</th>\n      <td>low</td>\n      <td>58</td>\n    </tr>\n  </tbody>\n</table>\n</div>"
          },
          "metadata": {}
        }
      ]
    },
    {
      "metadata": {
        "trusted": true,
        "collapsed": true,
        "_uuid": "79973cf6de4e3a261e9fd8b30fa2aeda91d8365e"
      },
      "cell_type": "code",
      "source": "",
      "execution_count": null,
      "outputs": []
    },
    {
      "metadata": {
        "trusted": true,
        "collapsed": true,
        "_uuid": "4e594b73dc18e69e3a0d5537b94950a308228092"
      },
      "cell_type": "code",
      "source": "",
      "execution_count": null,
      "outputs": []
    },
    {
      "metadata": {
        "trusted": true,
        "collapsed": true,
        "_uuid": "dc95a3a23441eea7a7c8cad83232f4ab1e48355e"
      },
      "cell_type": "code",
      "source": "",
      "execution_count": null,
      "outputs": []
    },
    {
      "metadata": {
        "trusted": true,
        "collapsed": true,
        "_uuid": "0de348b636fdeecd7aaf2e33c6aa54fcd3babdb5"
      },
      "cell_type": "code",
      "source": "",
      "execution_count": null,
      "outputs": []
    },
    {
      "metadata": {
        "trusted": true,
        "collapsed": true,
        "_uuid": "61026bf58323d1b27503db71cf6e12d3e378f77d"
      },
      "cell_type": "code",
      "source": "",
      "execution_count": null,
      "outputs": []
    },
    {
      "metadata": {
        "trusted": true,
        "collapsed": true,
        "_uuid": "4ffbcfe1d629c9b7d3a4ad672e54a2b2aecb226b"
      },
      "cell_type": "code",
      "source": "",
      "execution_count": null,
      "outputs": []
    },
    {
      "metadata": {
        "trusted": true,
        "collapsed": true,
        "_uuid": "00d818f62fa6aa2cc07ec1e2cc5758fdc4aa0045"
      },
      "cell_type": "code",
      "source": "",
      "execution_count": null,
      "outputs": []
    },
    {
      "metadata": {
        "trusted": true,
        "collapsed": true,
        "_uuid": "c19ade7e0210f2eff54c6fbe531dbd4ff538389e"
      },
      "cell_type": "code",
      "source": "",
      "execution_count": null,
      "outputs": []
    },
    {
      "metadata": {
        "trusted": true,
        "collapsed": true,
        "_uuid": "bf7f08e91bd98bc7d0f07571c185bb0d5ef3285b"
      },
      "cell_type": "code",
      "source": "",
      "execution_count": null,
      "outputs": []
    }
  ],
  "metadata": {
    "kernelspec": {
      "display_name": "Python 3",
      "language": "python",
      "name": "python3"
    },
    "language_info": {
      "name": "python",
      "version": "3.6.6",
      "mimetype": "text/x-python",
      "codemirror_mode": {
        "name": "ipython",
        "version": 3
      },
      "pygments_lexer": "ipython3",
      "nbconvert_exporter": "python",
      "file_extension": ".py"
    }
  },
  "nbformat": 4,
  "nbformat_minor": 1
}